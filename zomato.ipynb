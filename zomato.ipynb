{
 "cells": [
  {
   "cell_type": "markdown",
   "id": "d47ad5e7-8a30-4575-a5fb-735c2c63f73d",
   "metadata": {},
   "source": [
    "## Zomato Dataset Exploratory Data Analysis"
   ]
  },
  {
   "cell_type": "code",
   "execution_count": 1,
   "id": "82a4f7e9-ea3f-4e90-80a5-4d1be81de6bb",
   "metadata": {},
   "outputs": [
    {
     "name": "stdout",
     "output_type": "stream",
     "text": [
      "Requirement already satisfied: prettytable in c:\\users\\prern\\appdata\\local\\programs\\python\\python311\\lib\\site-packages (3.9.0)\n",
      "Requirement already satisfied: wcwidth in c:\\users\\prern\\appdata\\local\\programs\\python\\python311\\lib\\site-packages (from prettytable) (0.2.6)\n"
     ]
    },
    {
     "name": "stderr",
     "output_type": "stream",
     "text": [
      "\n",
      "[notice] A new release of pip is available: 23.1.2 -> 23.3.2\n",
      "[notice] To update, run: python.exe -m pip install --upgrade pip\n"
     ]
    }
   ],
   "source": [
    "!pip install prettytable\n",
    "import pandas as pd\n",
    "import numpy as np\n",
    "import matplotlib.pyplot as plt\n",
    "import seaborn as sns\n",
    "%matplotlib inline"
   ]
  },
  {
   "cell_type": "code",
   "execution_count": 2,
   "id": "65cfdc6b-e585-494d-b8ac-de2f1c37a98e",
   "metadata": {},
   "outputs": [
    {
     "data": {
      "text/html": [
       "<div>\n",
       "<style scoped>\n",
       "    .dataframe tbody tr th:only-of-type {\n",
       "        vertical-align: middle;\n",
       "    }\n",
       "\n",
       "    .dataframe tbody tr th {\n",
       "        vertical-align: top;\n",
       "    }\n",
       "\n",
       "    .dataframe thead th {\n",
       "        text-align: right;\n",
       "    }\n",
       "</style>\n",
       "<table border=\"1\" class=\"dataframe\">\n",
       "  <thead>\n",
       "    <tr style=\"text-align: right;\">\n",
       "      <th></th>\n",
       "      <th>Restaurant ID</th>\n",
       "      <th>Restaurant Name</th>\n",
       "      <th>Country Code</th>\n",
       "      <th>City</th>\n",
       "      <th>Address</th>\n",
       "      <th>Locality</th>\n",
       "      <th>Locality Verbose</th>\n",
       "      <th>Longitude</th>\n",
       "      <th>Latitude</th>\n",
       "      <th>Cuisines</th>\n",
       "      <th>...</th>\n",
       "      <th>Currency</th>\n",
       "      <th>Has Table booking</th>\n",
       "      <th>Has Online delivery</th>\n",
       "      <th>Is delivering now</th>\n",
       "      <th>Switch to order menu</th>\n",
       "      <th>Price range</th>\n",
       "      <th>Aggregate rating</th>\n",
       "      <th>Rating color</th>\n",
       "      <th>Rating text</th>\n",
       "      <th>Votes</th>\n",
       "    </tr>\n",
       "  </thead>\n",
       "  <tbody>\n",
       "    <tr>\n",
       "      <th>0</th>\n",
       "      <td>6317637</td>\n",
       "      <td>Le Petit Souffle</td>\n",
       "      <td>162</td>\n",
       "      <td>Makati City</td>\n",
       "      <td>Third Floor, Century City Mall, Kalayaan Avenu...</td>\n",
       "      <td>Century City Mall, Poblacion, Makati City</td>\n",
       "      <td>Century City Mall, Poblacion, Makati City, Mak...</td>\n",
       "      <td>121.027535</td>\n",
       "      <td>14.565443</td>\n",
       "      <td>French, Japanese, Desserts</td>\n",
       "      <td>...</td>\n",
       "      <td>Botswana Pula(P)</td>\n",
       "      <td>Yes</td>\n",
       "      <td>No</td>\n",
       "      <td>No</td>\n",
       "      <td>No</td>\n",
       "      <td>3</td>\n",
       "      <td>4.8</td>\n",
       "      <td>Dark Green</td>\n",
       "      <td>Excellent</td>\n",
       "      <td>314</td>\n",
       "    </tr>\n",
       "    <tr>\n",
       "      <th>1</th>\n",
       "      <td>6304287</td>\n",
       "      <td>Izakaya Kikufuji</td>\n",
       "      <td>162</td>\n",
       "      <td>Makati City</td>\n",
       "      <td>Little Tokyo, 2277 Chino Roces Avenue, Legaspi...</td>\n",
       "      <td>Little Tokyo, Legaspi Village, Makati City</td>\n",
       "      <td>Little Tokyo, Legaspi Village, Makati City, Ma...</td>\n",
       "      <td>121.014101</td>\n",
       "      <td>14.553708</td>\n",
       "      <td>Japanese</td>\n",
       "      <td>...</td>\n",
       "      <td>Botswana Pula(P)</td>\n",
       "      <td>Yes</td>\n",
       "      <td>No</td>\n",
       "      <td>No</td>\n",
       "      <td>No</td>\n",
       "      <td>3</td>\n",
       "      <td>4.5</td>\n",
       "      <td>Dark Green</td>\n",
       "      <td>Excellent</td>\n",
       "      <td>591</td>\n",
       "    </tr>\n",
       "    <tr>\n",
       "      <th>2</th>\n",
       "      <td>6300002</td>\n",
       "      <td>Heat - Edsa Shangri-La</td>\n",
       "      <td>162</td>\n",
       "      <td>Mandaluyong City</td>\n",
       "      <td>Edsa Shangri-La, 1 Garden Way, Ortigas, Mandal...</td>\n",
       "      <td>Edsa Shangri-La, Ortigas, Mandaluyong City</td>\n",
       "      <td>Edsa Shangri-La, Ortigas, Mandaluyong City, Ma...</td>\n",
       "      <td>121.056831</td>\n",
       "      <td>14.581404</td>\n",
       "      <td>Seafood, Asian, Filipino, Indian</td>\n",
       "      <td>...</td>\n",
       "      <td>Botswana Pula(P)</td>\n",
       "      <td>Yes</td>\n",
       "      <td>No</td>\n",
       "      <td>No</td>\n",
       "      <td>No</td>\n",
       "      <td>4</td>\n",
       "      <td>4.4</td>\n",
       "      <td>Green</td>\n",
       "      <td>Very Good</td>\n",
       "      <td>270</td>\n",
       "    </tr>\n",
       "    <tr>\n",
       "      <th>3</th>\n",
       "      <td>6318506</td>\n",
       "      <td>Ooma</td>\n",
       "      <td>162</td>\n",
       "      <td>Mandaluyong City</td>\n",
       "      <td>Third Floor, Mega Fashion Hall, SM Megamall, O...</td>\n",
       "      <td>SM Megamall, Ortigas, Mandaluyong City</td>\n",
       "      <td>SM Megamall, Ortigas, Mandaluyong City, Mandal...</td>\n",
       "      <td>121.056475</td>\n",
       "      <td>14.585318</td>\n",
       "      <td>Japanese, Sushi</td>\n",
       "      <td>...</td>\n",
       "      <td>Botswana Pula(P)</td>\n",
       "      <td>No</td>\n",
       "      <td>No</td>\n",
       "      <td>No</td>\n",
       "      <td>No</td>\n",
       "      <td>4</td>\n",
       "      <td>4.9</td>\n",
       "      <td>Dark Green</td>\n",
       "      <td>Excellent</td>\n",
       "      <td>365</td>\n",
       "    </tr>\n",
       "    <tr>\n",
       "      <th>4</th>\n",
       "      <td>6314302</td>\n",
       "      <td>Sambo Kojin</td>\n",
       "      <td>162</td>\n",
       "      <td>Mandaluyong City</td>\n",
       "      <td>Third Floor, Mega Atrium, SM Megamall, Ortigas...</td>\n",
       "      <td>SM Megamall, Ortigas, Mandaluyong City</td>\n",
       "      <td>SM Megamall, Ortigas, Mandaluyong City, Mandal...</td>\n",
       "      <td>121.057508</td>\n",
       "      <td>14.584450</td>\n",
       "      <td>Japanese, Korean</td>\n",
       "      <td>...</td>\n",
       "      <td>Botswana Pula(P)</td>\n",
       "      <td>Yes</td>\n",
       "      <td>No</td>\n",
       "      <td>No</td>\n",
       "      <td>No</td>\n",
       "      <td>4</td>\n",
       "      <td>4.8</td>\n",
       "      <td>Dark Green</td>\n",
       "      <td>Excellent</td>\n",
       "      <td>229</td>\n",
       "    </tr>\n",
       "  </tbody>\n",
       "</table>\n",
       "<p>5 rows × 21 columns</p>\n",
       "</div>"
      ],
      "text/plain": [
       "   Restaurant ID         Restaurant Name  Country Code              City  \\\n",
       "0        6317637        Le Petit Souffle           162       Makati City   \n",
       "1        6304287        Izakaya Kikufuji           162       Makati City   \n",
       "2        6300002  Heat - Edsa Shangri-La           162  Mandaluyong City   \n",
       "3        6318506                    Ooma           162  Mandaluyong City   \n",
       "4        6314302             Sambo Kojin           162  Mandaluyong City   \n",
       "\n",
       "                                             Address  \\\n",
       "0  Third Floor, Century City Mall, Kalayaan Avenu...   \n",
       "1  Little Tokyo, 2277 Chino Roces Avenue, Legaspi...   \n",
       "2  Edsa Shangri-La, 1 Garden Way, Ortigas, Mandal...   \n",
       "3  Third Floor, Mega Fashion Hall, SM Megamall, O...   \n",
       "4  Third Floor, Mega Atrium, SM Megamall, Ortigas...   \n",
       "\n",
       "                                     Locality  \\\n",
       "0   Century City Mall, Poblacion, Makati City   \n",
       "1  Little Tokyo, Legaspi Village, Makati City   \n",
       "2  Edsa Shangri-La, Ortigas, Mandaluyong City   \n",
       "3      SM Megamall, Ortigas, Mandaluyong City   \n",
       "4      SM Megamall, Ortigas, Mandaluyong City   \n",
       "\n",
       "                                    Locality Verbose   Longitude   Latitude  \\\n",
       "0  Century City Mall, Poblacion, Makati City, Mak...  121.027535  14.565443   \n",
       "1  Little Tokyo, Legaspi Village, Makati City, Ma...  121.014101  14.553708   \n",
       "2  Edsa Shangri-La, Ortigas, Mandaluyong City, Ma...  121.056831  14.581404   \n",
       "3  SM Megamall, Ortigas, Mandaluyong City, Mandal...  121.056475  14.585318   \n",
       "4  SM Megamall, Ortigas, Mandaluyong City, Mandal...  121.057508  14.584450   \n",
       "\n",
       "                           Cuisines  ...          Currency Has Table booking  \\\n",
       "0        French, Japanese, Desserts  ...  Botswana Pula(P)               Yes   \n",
       "1                          Japanese  ...  Botswana Pula(P)               Yes   \n",
       "2  Seafood, Asian, Filipino, Indian  ...  Botswana Pula(P)               Yes   \n",
       "3                   Japanese, Sushi  ...  Botswana Pula(P)                No   \n",
       "4                  Japanese, Korean  ...  Botswana Pula(P)               Yes   \n",
       "\n",
       "  Has Online delivery Is delivering now Switch to order menu Price range  \\\n",
       "0                  No                No                   No           3   \n",
       "1                  No                No                   No           3   \n",
       "2                  No                No                   No           4   \n",
       "3                  No                No                   No           4   \n",
       "4                  No                No                   No           4   \n",
       "\n",
       "   Aggregate rating  Rating color Rating text Votes  \n",
       "0               4.8    Dark Green   Excellent   314  \n",
       "1               4.5    Dark Green   Excellent   591  \n",
       "2               4.4         Green   Very Good   270  \n",
       "3               4.9    Dark Green   Excellent   365  \n",
       "4               4.8    Dark Green   Excellent   229  \n",
       "\n",
       "[5 rows x 21 columns]"
      ]
     },
     "execution_count": 2,
     "metadata": {},
     "output_type": "execute_result"
    }
   ],
   "source": [
    "df=pd.read_csv(r'C:\\Users\\prern\\Downloads\\zomato.csv',encoding='latin-1')\n",
    "df.head()"
   ]
  },
  {
   "cell_type": "code",
   "execution_count": 3,
   "id": "d5542b2c-26bc-42c1-a09f-f7b10a3574e2",
   "metadata": {},
   "outputs": [
    {
     "data": {
      "text/plain": [
       "Index(['Restaurant ID', 'Restaurant Name', 'Country Code', 'City', 'Address',\n",
       "       'Locality', 'Locality Verbose', 'Longitude', 'Latitude', 'Cuisines',\n",
       "       'Average Cost for two', 'Currency', 'Has Table booking',\n",
       "       'Has Online delivery', 'Is delivering now', 'Switch to order menu',\n",
       "       'Price range', 'Aggregate rating', 'Rating color', 'Rating text',\n",
       "       'Votes'],\n",
       "      dtype='object')"
      ]
     },
     "execution_count": 3,
     "metadata": {},
     "output_type": "execute_result"
    }
   ],
   "source": [
    "df.columns"
   ]
  },
  {
   "cell_type": "code",
   "execution_count": 4,
   "id": "5177d25a-b4a4-4b3b-8c1c-0c03f2b3d302",
   "metadata": {},
   "outputs": [
    {
     "name": "stdout",
     "output_type": "stream",
     "text": [
      "<class 'pandas.core.frame.DataFrame'>\n",
      "RangeIndex: 9551 entries, 0 to 9550\n",
      "Data columns (total 21 columns):\n",
      " #   Column                Non-Null Count  Dtype  \n",
      "---  ------                --------------  -----  \n",
      " 0   Restaurant ID         9551 non-null   int64  \n",
      " 1   Restaurant Name       9551 non-null   object \n",
      " 2   Country Code          9551 non-null   int64  \n",
      " 3   City                  9551 non-null   object \n",
      " 4   Address               9551 non-null   object \n",
      " 5   Locality              9551 non-null   object \n",
      " 6   Locality Verbose      9551 non-null   object \n",
      " 7   Longitude             9551 non-null   float64\n",
      " 8   Latitude              9551 non-null   float64\n",
      " 9   Cuisines              9542 non-null   object \n",
      " 10  Average Cost for two  9551 non-null   int64  \n",
      " 11  Currency              9551 non-null   object \n",
      " 12  Has Table booking     9551 non-null   object \n",
      " 13  Has Online delivery   9551 non-null   object \n",
      " 14  Is delivering now     9551 non-null   object \n",
      " 15  Switch to order menu  9551 non-null   object \n",
      " 16  Price range           9551 non-null   int64  \n",
      " 17  Aggregate rating      9551 non-null   float64\n",
      " 18  Rating color          9551 non-null   object \n",
      " 19  Rating text           9551 non-null   object \n",
      " 20  Votes                 9551 non-null   int64  \n",
      "dtypes: float64(3), int64(5), object(13)\n",
      "memory usage: 1.5+ MB\n"
     ]
    }
   ],
   "source": [
    "df.info()"
   ]
  },
  {
   "cell_type": "code",
   "execution_count": 5,
   "id": "68068922-f2a7-49f0-8361-fe6a5d7573b3",
   "metadata": {},
   "outputs": [
    {
     "data": {
      "text/html": [
       "<div>\n",
       "<style scoped>\n",
       "    .dataframe tbody tr th:only-of-type {\n",
       "        vertical-align: middle;\n",
       "    }\n",
       "\n",
       "    .dataframe tbody tr th {\n",
       "        vertical-align: top;\n",
       "    }\n",
       "\n",
       "    .dataframe thead th {\n",
       "        text-align: right;\n",
       "    }\n",
       "</style>\n",
       "<table border=\"1\" class=\"dataframe\">\n",
       "  <thead>\n",
       "    <tr style=\"text-align: right;\">\n",
       "      <th></th>\n",
       "      <th>Restaurant ID</th>\n",
       "      <th>Country Code</th>\n",
       "      <th>Longitude</th>\n",
       "      <th>Latitude</th>\n",
       "      <th>Average Cost for two</th>\n",
       "      <th>Price range</th>\n",
       "      <th>Aggregate rating</th>\n",
       "      <th>Votes</th>\n",
       "    </tr>\n",
       "  </thead>\n",
       "  <tbody>\n",
       "    <tr>\n",
       "      <th>count</th>\n",
       "      <td>9.551000e+03</td>\n",
       "      <td>9551.000000</td>\n",
       "      <td>9551.000000</td>\n",
       "      <td>9551.000000</td>\n",
       "      <td>9551.000000</td>\n",
       "      <td>9551.000000</td>\n",
       "      <td>9551.000000</td>\n",
       "      <td>9551.000000</td>\n",
       "    </tr>\n",
       "    <tr>\n",
       "      <th>mean</th>\n",
       "      <td>9.051128e+06</td>\n",
       "      <td>18.365616</td>\n",
       "      <td>64.126574</td>\n",
       "      <td>25.854381</td>\n",
       "      <td>1199.210763</td>\n",
       "      <td>1.804837</td>\n",
       "      <td>2.666370</td>\n",
       "      <td>156.909748</td>\n",
       "    </tr>\n",
       "    <tr>\n",
       "      <th>std</th>\n",
       "      <td>8.791521e+06</td>\n",
       "      <td>56.750546</td>\n",
       "      <td>41.467058</td>\n",
       "      <td>11.007935</td>\n",
       "      <td>16121.183073</td>\n",
       "      <td>0.905609</td>\n",
       "      <td>1.516378</td>\n",
       "      <td>430.169145</td>\n",
       "    </tr>\n",
       "    <tr>\n",
       "      <th>min</th>\n",
       "      <td>5.300000e+01</td>\n",
       "      <td>1.000000</td>\n",
       "      <td>-157.948486</td>\n",
       "      <td>-41.330428</td>\n",
       "      <td>0.000000</td>\n",
       "      <td>1.000000</td>\n",
       "      <td>0.000000</td>\n",
       "      <td>0.000000</td>\n",
       "    </tr>\n",
       "    <tr>\n",
       "      <th>25%</th>\n",
       "      <td>3.019625e+05</td>\n",
       "      <td>1.000000</td>\n",
       "      <td>77.081343</td>\n",
       "      <td>28.478713</td>\n",
       "      <td>250.000000</td>\n",
       "      <td>1.000000</td>\n",
       "      <td>2.500000</td>\n",
       "      <td>5.000000</td>\n",
       "    </tr>\n",
       "    <tr>\n",
       "      <th>50%</th>\n",
       "      <td>6.004089e+06</td>\n",
       "      <td>1.000000</td>\n",
       "      <td>77.191964</td>\n",
       "      <td>28.570469</td>\n",
       "      <td>400.000000</td>\n",
       "      <td>2.000000</td>\n",
       "      <td>3.200000</td>\n",
       "      <td>31.000000</td>\n",
       "    </tr>\n",
       "    <tr>\n",
       "      <th>75%</th>\n",
       "      <td>1.835229e+07</td>\n",
       "      <td>1.000000</td>\n",
       "      <td>77.282006</td>\n",
       "      <td>28.642758</td>\n",
       "      <td>700.000000</td>\n",
       "      <td>2.000000</td>\n",
       "      <td>3.700000</td>\n",
       "      <td>131.000000</td>\n",
       "    </tr>\n",
       "    <tr>\n",
       "      <th>max</th>\n",
       "      <td>1.850065e+07</td>\n",
       "      <td>216.000000</td>\n",
       "      <td>174.832089</td>\n",
       "      <td>55.976980</td>\n",
       "      <td>800000.000000</td>\n",
       "      <td>4.000000</td>\n",
       "      <td>4.900000</td>\n",
       "      <td>10934.000000</td>\n",
       "    </tr>\n",
       "  </tbody>\n",
       "</table>\n",
       "</div>"
      ],
      "text/plain": [
       "       Restaurant ID  Country Code    Longitude     Latitude  \\\n",
       "count   9.551000e+03   9551.000000  9551.000000  9551.000000   \n",
       "mean    9.051128e+06     18.365616    64.126574    25.854381   \n",
       "std     8.791521e+06     56.750546    41.467058    11.007935   \n",
       "min     5.300000e+01      1.000000  -157.948486   -41.330428   \n",
       "25%     3.019625e+05      1.000000    77.081343    28.478713   \n",
       "50%     6.004089e+06      1.000000    77.191964    28.570469   \n",
       "75%     1.835229e+07      1.000000    77.282006    28.642758   \n",
       "max     1.850065e+07    216.000000   174.832089    55.976980   \n",
       "\n",
       "       Average Cost for two  Price range  Aggregate rating         Votes  \n",
       "count           9551.000000  9551.000000       9551.000000   9551.000000  \n",
       "mean            1199.210763     1.804837          2.666370    156.909748  \n",
       "std            16121.183073     0.905609          1.516378    430.169145  \n",
       "min                0.000000     1.000000          0.000000      0.000000  \n",
       "25%              250.000000     1.000000          2.500000      5.000000  \n",
       "50%              400.000000     2.000000          3.200000     31.000000  \n",
       "75%              700.000000     2.000000          3.700000    131.000000  \n",
       "max           800000.000000     4.000000          4.900000  10934.000000  "
      ]
     },
     "execution_count": 5,
     "metadata": {},
     "output_type": "execute_result"
    }
   ],
   "source": [
    "df.describe()"
   ]
  },
  {
   "cell_type": "code",
   "execution_count": 6,
   "id": "61574e08-8a47-475d-ab05-78ad47813678",
   "metadata": {},
   "outputs": [
    {
     "data": {
      "text/plain": [
       "Restaurant ID           0\n",
       "Restaurant Name         0\n",
       "Country Code            0\n",
       "City                    0\n",
       "Address                 0\n",
       "Locality                0\n",
       "Locality Verbose        0\n",
       "Longitude               0\n",
       "Latitude                0\n",
       "Cuisines                9\n",
       "Average Cost for two    0\n",
       "Currency                0\n",
       "Has Table booking       0\n",
       "Has Online delivery     0\n",
       "Is delivering now       0\n",
       "Switch to order menu    0\n",
       "Price range             0\n",
       "Aggregate rating        0\n",
       "Rating color            0\n",
       "Rating text             0\n",
       "Votes                   0\n",
       "dtype: int64"
      ]
     },
     "execution_count": 6,
     "metadata": {},
     "output_type": "execute_result"
    }
   ],
   "source": [
    "df.isnull().sum()"
   ]
  },
  {
   "cell_type": "code",
   "execution_count": 7,
   "id": "0e565b62-c734-4ffe-adc9-b37d58ba3144",
   "metadata": {},
   "outputs": [
    {
     "data": {
      "text/plain": [
       "['Cuisines']"
      ]
     },
     "execution_count": 7,
     "metadata": {},
     "output_type": "execute_result"
    }
   ],
   "source": [
    "[features for features in df.columns if df[features].isnull().sum()>0]"
   ]
  },
  {
   "cell_type": "code",
   "execution_count": 9,
   "id": "6d7866e4-b262-4840-a41c-71e2933a1471",
   "metadata": {},
   "outputs": [
    {
     "data": {
      "text/plain": [
       "<Axes: >"
      ]
     },
     "execution_count": 9,
     "metadata": {},
     "output_type": "execute_result"
    },
    {
     "data": {
      "image/png": "[encoded data removed]",
      "text/plain": [
       "<Figure size 640x480 with 2 Axes>"
      ]
     },
     "metadata": {},
     "output_type": "display_data"
    }
   ],
   "source": [
    "sns.heatmap(df.isnull(),yticklabels=False,cbar=True,cmap='viridis')"
   ]
  },
  {
   "cell_type": "code",
   "execution_count": null,
   "id": "3859e690-cd11-4a5b-92d8-e9b81f7b0241",
   "metadata": {},
   "outputs": [],
   "source": [
    "df_country=pd.read_excel(r\"C:\\Users\\prern\\Downloads\\Country-Code.xlsx\")\n",
    "df_country.head()"
   ]
  },
  {
   "cell_type": "code",
   "execution_count": null,
   "id": "d973c3d9-5bd2-4b5c-9dc9-94fa984e0721",
   "metadata": {},
   "outputs": [],
   "source": [
    "m=pd.merge(df,df_country,on='Country Code', how='left')\n",
    "m.head(2)\n"
   ]
  },
  {
   "cell_type": "code",
   "execution_count": null,
   "id": "bcbb9df0-799f-4429-8d51-979d48519a4c",
   "metadata": {},
   "outputs": [],
   "source": [
    "m.dtypes"
   ]
  },
  {
   "cell_type": "code",
   "execution_count": null,
   "id": "bf0f2baf-e8bc-481d-9230-24951102fd16",
   "metadata": {},
   "outputs": [],
   "source": [
    "country_names=m.Country.value_counts().index\n",
    "country_names"
   ]
  },
  {
   "cell_type": "code",
   "execution_count": null,
   "id": "8f020d3a-520b-43d7-ab54-f35d4df24ae4",
   "metadata": {},
   "outputs": [],
   "source": [
    "country_val=m.Country.value_counts().values\n",
    "country_val"
   ]
  },
  {
   "cell_type": "code",
   "execution_count": null,
   "id": "5a615316-deff-42d1-95d0-dac5e29afbdb",
   "metadata": {},
   "outputs": [],
   "source": [
    "plt.pie(country_val[:3],labels=country_names[:3],autopct='%1.2f%%')"
   ]
  },
  {
   "cell_type": "markdown",
   "id": "d9556d73-f3ff-4fa6-bd7e-05e62db3c504",
   "metadata": {},
   "source": [
    "## Observation:\n",
    "India contributes to the larger shares of Zomato"
   ]
  },
  {
   "cell_type": "code",
   "execution_count": null,
   "id": "32926562-79f0-4b71-9268-3aa64307bd95",
   "metadata": {},
   "outputs": [],
   "source": [
    "m.columns"
   ]
  },
  {
   "cell_type": "code",
   "execution_count": null,
   "id": "bac41ca0-31d9-4cb4-818c-63315e1effbf",
   "metadata": {},
   "outputs": [],
   "source": [
    "ratings=m.groupby(['Aggregate rating','Rating color','Rating text']).size().reset_index().rename(columns={0:'Rating Count'})\n",
    "ratings"
   ]
  },
  {
   "cell_type": "markdown",
   "id": "9d01d769-91c2-4b02-9ac1-08fbae5726e6",
   "metadata": {},
   "source": [
    "## Observation: \n",
    "#### 1.When Rating is between 4.5 to 4.9---> Excellent\n",
    "#### 2.When Rating is between 4.0 to 4.4--->very good\n",
    "#### 3.When Rating is between 3.5 to 3.9--->good\n",
    "#### 4.When Rating is between 3.0 to 3.4--->average\r",
    "#### 5.When Rating is between 2.5 to 2.9--->average\n",
    "#### 6.When Rating is between 2.0 to 2.4--->good> Poor"
   ]
  },
  {
   "cell_type": "code",
   "execution_count": null,
   "id": "ff4924a0-fc45-45a8-a8d8-314ca82e5d8f",
   "metadata": {},
   "outputs": [],
   "source": [
    "## Top 5 Rated Restaurants \n",
    "top_5_restaurants = df.sort_values(by='Aggregate rating', ascending=False).head(5)\n",
    "plt.bar(top_5_restaurants['Restaurant Name'], top_5_restaurants['Aggregate rating'], color='#FFD700',width=0.4)\n",
    "plt.xticks(rotation=45, ha='right')\n",
    "plt.xlabel('Restaurant Name')\n",
    "plt.ylabel('Rating')\n",
    "plt.title('Top 5 Highest Rated Restaurants on Zomato')\n",
    "for i, rating in enumerate(top_5_restaurants['Aggregate rating']):\n",
    "    plt.text(i, rating + 0.05, f'{rating:.1f}', ha='center', va='bottom')\n",
    "plt.show()"
   ]
  },
  {
   "cell_type": "code",
   "execution_count": null,
   "id": "a655396f-604a-4936-b75b-cd492d5892cd",
   "metadata": {},
   "outputs": [],
   "source": [
    "## Top Rated Restaurants by country\n",
    "from prettytable import PrettyTable\n",
    "top_rated_restaurants_by_country = m.loc[m.groupby('Country')['Aggregate rating'].idxmax()]\n",
    "top_rated_restaurants_by_country = top_rated_restaurants_by_country.sort_values(by='Aggregate rating', ascending=False)\n",
    "table = PrettyTable()\n",
    "table.field_names = [\"Country\",\"City\", \"Top Restaurant\", \"Rating\"]\n",
    "for _, row in top_rated_restaurants_by_country.iterrows():\n",
    "    table.add_row([row[\"Country\"],row[\"City\"],row[\"Restaurant Name\"], row[\"Aggregate rating\"]])\n",
    "print(table)"
   ]
  },
  {
   "cell_type": "markdown",
   "id": "edfcd3ed-59dd-4226-a744-d4713010ac3b",
   "metadata": {},
   "source": [
    "## Observation: \n",
    "The table give insights of the best rated restaurants in every country with their respective rating"
   ]
  },
  {
   "cell_type": "code",
   "execution_count": null,
   "id": "3720a8f5-0633-46d9-8f11-ec37f325b2ef",
   "metadata": {},
   "outputs": [],
   "source": [
    "import matplotlib\n",
    "matplotlib.rcParams['figure.figsize'] = (12, 6)\n",
    "sns.barplot(x=\"Aggregate rating\",y=\"Rating Count\",data=ratings)"
   ]
  },
  {
   "cell_type": "markdown",
   "id": "19391028-9e87-48a7-884b-38424c6ad57d",
   "metadata": {},
   "source": [
    "## Observation:\n",
    "1. Not Rated Count is very high => Most restaurants are not being rated by customers\n",
    "2. Maximum number of ratings are between 2.4 to 3.43.4"
   ]
  },
  {
   "cell_type": "code",
   "execution_count": null,
   "id": "61894503-4bb2-4080-8258-e8794dac5d84",
   "metadata": {},
   "outputs": [],
   "source": [
    "## Find the countries name that has given 0 rating \n",
    "m.groupby(['Aggregate rating','Country']).size().reset_index().head(5)"
   ]
  },
  {
   "cell_type": "markdown",
   "id": "34e84292-278c-4f8b-ae99-cdba067acd23",
   "metadata": {},
   "source": [
    "## Observations: \n",
    "Maximum number of 0 ratings are from Indian customers"
   ]
  },
  {
   "cell_type": "code",
   "execution_count": null,
   "id": "191ccac2-0cab-4e03-acde-f4ac7dfa2b07",
   "metadata": {},
   "outputs": [],
   "source": [
    "##total no. of restaurants in each country with the average rating\n",
    "restaurant_stats_by_country = m.groupby('Country').agg({'Restaurant Name': 'count', 'Aggregate rating': 'mean'}).reset_index()\n",
    "restaurant_stats_by_country = restaurant_stats_by_country.sort_values(by='Aggregate rating', ascending=False)\n",
    "fig, ax1 = plt.subplots()\n",
    "ax1.plot(restaurant_stats_by_country['Country'], restaurant_stats_by_country['Restaurant Name'], color='b', marker='o', label='Number of Restaurants')\n",
    "ax2 = ax1.twinx()\n",
    "ax2.plot(restaurant_stats_by_country['Country'], restaurant_stats_by_country['Aggregate rating'], color='y', marker='*', label='Average Rating')\n",
    "ax1.set_xlabel('Country')\n",
    "ax1.set_ylabel('Number of Restaurants', color='b')\n",
    "ax2.set_ylabel('Average Rating', color='r')\n",
    "plt.title('Total Number of Restaurants and Average Rating by Country')\n",
    "ax1.set_xticks(range(len(restaurant_stats_by_country['Country'])))\n",
    "ax1.set_xticklabels(restaurant_stats_by_country['Country'], rotation=45, ha='right')\n",
    "ax1.legend(loc='upper left')\n",
    "ax2.legend(loc='upper right')\n",
    "plt.show()"
   ]
  },
  {
   "cell_type": "markdown",
   "id": "8557196b-1c47-43f0-9c66-a0f5a38262c0",
   "metadata": {},
   "source": [
    "## Observation: \n",
    "The high average rating in the Philippines suggests exceptional satisfaction with its single restaurant. In contrast, India's diverse culinary scene, with numerous establishments, may result in varying service quality and ratings\n"
   ]
  },
  {
   "cell_type": "code",
   "execution_count": null,
   "id": "312e2ca3-533e-43e0-babd-4f96973dfd44",
   "metadata": {},
   "outputs": [],
   "source": [
    "## Restaurants with varities of cuisines\n",
    "m['Cuisine Varieties Count'] = m['Cuisines'].str.split(',').apply(lambda x: len(set(x)) if isinstance(x, list) else 0)\n",
    "top_restaurants = m.groupby('Cuisine Varieties Count').apply(lambda x: x.nlargest(1, 'Cuisine Varieties Count')).reset_index(drop=True)\n",
    "top_restaurants_series = top_restaurants.set_index('Restaurant Name')['Cuisine Varieties Count'].sort_values(ascending=False)\n",
    "top_restaurants_df = top_restaurants_series.reset_index()\n",
    "plt.pie(top_restaurants_df['Cuisine Varieties Count'], labels=top_restaurants_df['Restaurant Name'], autopct='%1.1f%%', startangle=90)\n",
    "plt.legend(title='Count', bbox_to_anchor=(1.6, 1), loc='upper left', labels=top_restaurants_series)\n",
    "plt.title('Pie Chart of Top Restaurants with Different Cuisine Varieties')\n",
    "plt.show()"
   ]
  },
  {
   "cell_type": "markdown",
   "id": "9fa00d23-5602-44c6-94d0-33cb7a4eb4b7",
   "metadata": {},
   "source": [
    "## observation:\n",
    "Bikanervala from India has The Most Diverse Range of Cuisine Offerings with a count of 8."
   ]
  },
  {
   "cell_type": "code",
   "execution_count": null,
   "id": "5a172538-8ffe-4027-a84d-d7748e2a03a4",
   "metadata": {},
   "outputs": [],
   "source": [
    "m['Cuisine Varieties Count'] = m['Cuisines'].str.split(',').apply(lambda x: len(set(x)) if isinstance(x, list) else 0)\n",
    "top_restaurants_by_country = m.groupby('Country').apply(lambda x: x.nlargest(1, 'Cuisine Varieties Count')).reset_index(drop=True)\n",
    "plt.figure(figsize=(10, 8))\n",
    "country_palette = sns.color_palette('husl', n_colors=len(top_restaurants_by_country['Country'].unique()))\n",
    "plt.pie(top_restaurants_by_country['Cuisine Varieties Count'],\n",
    "        labels=top_restaurants_by_country['Country'] + ' - ' + top_restaurants_by_country['Restaurant Name'],\n",
    "        autopct='%1.1f%%', startangle=90, colors=country_palette)\n",
    "plt.title('Pie Chart of Restaurants with Most Cuisine Varieties by Country')\n",
    "plt.show()"
   ]
  },
  {
   "cell_type": "markdown",
   "id": "26157ece-1d32-47ae-89ff-b3070e04a430",
   "metadata": {},
   "source": [
    "## Observation: \n",
    "India and South Africa are the Top Leaders in Culinary Diversity"
   ]
  },
  {
   "cell_type": "code",
   "execution_count": null,
   "id": "b2fa3809-530a-4ed8-a411-df78a81c2e76",
   "metadata": {},
   "outputs": [],
   "source": [
    "## most bought cuisines\n",
    "m[[\"Cuisines\"]].groupby([\"Cuisines\"]).size().reset_index().sort_values(by=0,ascending=False).head(10)"
   ]
  },
  {
   "cell_type": "markdown",
   "id": "81420240-49cf-4aac-bbdb-c5a8011162a4",
   "metadata": {},
   "source": [
    "## observation:\n",
    "North Indian Cuisine is the most bought in the world"
   ]
  },
  {
   "cell_type": "code",
   "execution_count": null,
   "id": "22a388e3-1246-410e-996e-6b9fa146457e",
   "metadata": {},
   "outputs": [],
   "source": [
    "## Most expensive and least expensive restaurants\n",
    "most_expensive = m[['Restaurant Name','Country','City','Average Cost for two']].loc[df['Average Cost for two'].idxmax()]\n",
    "least_expensive =  m[['Restaurant Name', 'Country', 'City', 'Average Cost for two']].nsmallest(23, 'Average Cost for two').iloc[-1]\n",
    "df_most_expensive = pd.DataFrame([most_expensive])\n",
    "df_least_expensive = pd.DataFrame([least_expensive])\n",
    "print(df_most_expensive)\n",
    "print(df_least_expensive)"
   ]
  },
  {
   "cell_type": "markdown",
   "id": "3cf570cb-0381-4cef-bd5a-30cd77a332f6",
   "metadata": {},
   "source": [
    "## Observation: \n",
    "Restaurant in jakarta has the most expensive restaurant whereas Albany has the least expensive restaurant"
   ]
  },
  {
   "cell_type": "code",
   "execution_count": null,
   "id": "d1dcdb2a-6a90-438b-a31c-337369fb6c0f",
   "metadata": {},
   "outputs": [],
   "source": [
    "## How many restaurants have table bookings\n",
    "table_booking_counts = df['Has Table booking'].value_counts()\n",
    "print(\"Number of Restaurants with Table Bookings:\")\n",
    "print(table_booking_counts.get('Yes', 0))  \n",
    "print(\"\\nNumber of Restaurants without Table Bookings:\")\n",
    "print(table_booking_counts.get('No', 0)) "
   ]
  },
  {
   "cell_type": "markdown",
   "id": "af08ce6a-8f88-4fcc-992d-a0e10be02acf",
   "metadata": {},
   "source": [
    "## observation: \n",
    "More no. of restaurants don't have an option of dining on zomato "
   ]
  },
  {
   "cell_type": "code",
   "execution_count": null,
   "id": "312411b6-ac8d-427b-b6c9-6fe219067e93",
   "metadata": {},
   "outputs": [],
   "source": [
    "m.iloc[:,:23].head(2)"
   ]
  },
  {
   "cell_type": "code",
   "execution_count": null,
   "id": "5afd262d-1a60-4a5e-be1f-9179308d2025",
   "metadata": {},
   "outputs": [],
   "source": [
    "def map_affordability(price_range):\n",
    "    if price_range == 4:\n",
    "        return \"Very Expensive\"\n",
    "    elif price_range == 3:\n",
    "        return \"Expensive\"\n",
    "    elif price_range == 2:\n",
    "        return \"Moderate\"\n",
    "    else:\n",
    "        return \"Inexpensive\"\n",
    "m['Affordability'] = m['Price range'].apply(map_affordability)\n",
    "affordability_counts = m.groupby(['Country', 'Affordability']).size().reset_index(name='Count')\n",
    "print(affordability_counts)"
   ]
  },
  {
   "cell_type": "markdown",
   "id": "2d408524-9211-4320-9943-6e50245994c4",
   "metadata": {},
   "source": [
    "## Observation:\n",
    "From the above distribution of restaurant affordability levels across different countries, Insights can be drawn regarding the pricing landscape and consumer preferences in diverse global markets"
   ]
  },
  {
   "cell_type": "code",
   "execution_count": null,
   "id": "3b821b80-63a1-40b9-9134-db1e86d553e7",
   "metadata": {},
   "outputs": [],
   "source": [
    "## most orders on zomato are from which city from each country\n",
    "country_orders=m.Country.value_counts().values\n",
    "country_names = m.Country.value_counts().index\n",
    "plt.figure(figsize=(12, 6))\n",
    "bars = plt.bar(x=country_names, height=country_orders)\n",
    "plt.title(\"Most Orders from Different Countries\")\n",
    "plt.xticks(rotation=45)\n",
    "\n",
    "for bar in bars:\n",
    "    yval = bar.get_height()\n",
    "    plt.text(bar.get_x() + bar.get_width() / 2, yval, int(yval), ha='center', va='bottom')"
   ]
  },
  {
   "cell_type": "markdown",
   "id": "9b24661d-f499-48ac-8874-c376a746c6a2",
   "metadata": {},
   "source": [
    "## observation:\n",
    "India has the highest orders on Zomato"
   ]
  },
  {
   "cell_type": "code",
   "execution_count": null,
   "id": "da8b7973-9a0c-439a-8c84-addb80788da9",
   "metadata": {},
   "outputs": [],
   "source": [
    "profitable_country = m.groupby('Country')['Average Cost for two'].sum().sort_values(ascending= False )\n",
    "profitable_country[:5].plot(kind='bar', color='purple')\n",
    "plt.xlabel('Country')\n",
    "plt.ylabel('Total Average Cost for Two')\n",
    "plt.title('Bar Plot of Total Average Cost for Two in Each Country')\n",
    "plt.show()\n",
    "for country, orders in zip(country_names, country_orders):\n",
    "    if city == \"Jakarta\":\n",
    "        print(\"Orders for Jakarta:\", orders)"
   ]
  },
  {
   "cell_type": "markdown",
   "id": "00dc3071-05a9-433c-8295-ac3610a0a1a3",
   "metadata": {},
   "source": [
    "## observation:\n",
    "Though India being the Leader in Most orders but Indonesia wins in revenue stats"
   ]
  },
  {
   "cell_type": "code",
   "execution_count": null,
   "id": "067b41cb-56ab-479f-a199-5fc9332d065b",
   "metadata": {},
   "outputs": [],
   "source": [
    "final_sales = m.groupby('Currency')['Average Cost for two'].sum().sort_values(ascending=False)\n",
    "sum_column = final_sales.reset_index()[['Currency', 'Average Cost for two']]\n",
    "conversion_rates = {\n",
    "    'Botswana Pula(P)': {'currency': 'Botswana Pula(P)', 'rate': 1},\n",
    "    'Brazilian Real(R$)': {'currency': 'Brazilian Real(R$)', 'rate': 5},\n",
    "    'Dollar($)': {'currency': 'Dollar($)', 'rate': 1},\n",
    "    'Emirati Dirham(AED)': {'currency': 'Emirati Dirham(AED)', 'rate': 3},\n",
    "    'Indian Rupees(Rs.)': {'currency': 'Indian Rupees(Rs.) ', 'rate': 80},\n",
    "    'Indonesian Rupiah(IDR)': {'currency': 'Indonesian Rupiah(IDR)', 'rate': 15000},\n",
    "    'NewZealand($)': {'currency': 'NewZealand($)', 'rate': 1},\n",
    "    'Pounds(£)': {'currency': 'Pounds(£)', 'rate': 1},\n",
    "    'Qatari Rial(QR)': {'currency': 'Qatari Rial(QR)', 'rate': 3},\n",
    "    'Rand(R)': {'currency': 'Rand(R)', 'rate': 15},\n",
    "    'Turkish Lira(TL)': {'currency': 'Turkish Lira(TL)', 'rate': 15},\n",
    "    'Sri Lankan Rupee(LKR)': {'currency': ' Sri Lankan Rupee(LKR)', 'rate': 200},\n",
    "}\n",
    "\n",
    "conversion_df = pd.DataFrame(list(conversion_rates.values()), index=conversion_rates.keys())\n",
    "m['Converted Sum($)'] = m.apply(lambda row: row['Average Cost for two'] / conversion_rates.get(row['Currency'], {'rate': 1})['rate'], axis=1)\n",
    "\n",
    "final_sales = m.groupby('Currency')['Converted Sum($)'].sum().sort_values(ascending=False)\n",
    "\n",
    "fig, ax = plt.subplots()\n",
    "bar_width = 0.8  \n",
    "bars = ax.bar(final_sales.index, final_sales, bar_width, label='Converted Sum($)', tick_label=final_sales.index)\n",
    "\n",
    "ax.set_xlabel('Currency')\n",
    "ax.set_ylabel('Converted Sum($)')\n",
    "ax.set_xticklabels(final_sales.index, rotation=45, ha='right')  # Rotate x-axis labels\n",
    "\n",
    "ax.set_title('Converted Sum($) by Currency')\n",
    "\n",
    "ax.yaxis.set_major_formatter(plt.FuncFormatter(lambda x, loc: \"${:,.0f}\".format(x)))  # Format y-axis labels as integers with commas\n",
    "\n",
    "ax.legend()\n",
    "plt.tight_layout()  # Ensures labels are not cut off\n",
    "plt.show()"
   ]
  },
  {
   "cell_type": "markdown",
   "id": "5b99061b-1b50-4690-aa22-b7ca19e5422b",
   "metadata": {},
   "source": [
    "## observation:\n",
    "The profit made by each country when converted in Dollars gives the real insight of  the impact of currency fluctuations on Zomato's revenue showing Zomato holds a strong market presence in India"
   ]
  },
  {
   "cell_type": "code",
   "execution_count": null,
   "id": "16064cb9-bc6d-44c8-918d-8cdd9ae94bc5",
   "metadata": {},
   "outputs": [],
   "source": [
    "city_orders=m.City.value_counts().values\n",
    "city_names = m.City.value_counts().index\n",
    "plt.figure(figsize=(12, 6))\n",
    "bars = plt.bar(x=city_names[:10], height=city_orders[:10], color='pink')\n",
    "plt.title(\"Most Orders from top 10 city\")\n",
    "plt.xticks(rotation=45)\n",
    "\n",
    "for bar in bars:\n",
    "    yval = bar.get_height()\n",
    "    plt.text(bar.get_x() + bar.get_width() / 2, yval, int(yval), ha='center', va='bottom')"
   ]
  },
  {
   "cell_type": "markdown",
   "id": "0e5232fc-e371-4ef6-84a5-8244feeda2ed",
   "metadata": {},
   "source": [
    "## observation:\n",
    "New Delhi has a vibrant and an active food delivery market on Zomato"
   ]
  },
  {
   "cell_type": "code",
   "execution_count": null,
   "id": "dfb43516-8257-4f24-bf2e-0612b6757432",
   "metadata": {},
   "outputs": [],
   "source": [
    "##Sales by online delivery vs dining\n",
    "profitable_city = df.groupby('City')['Average Cost for two'].sum().sort_values(ascending= False )\n",
    "profitable_city[:5].plot(kind='bar', color='purple')\n",
    "plt.xlabel('City')\n",
    "plt.ylabel('Total Average Cost for Two')\n",
    "plt.title('Bar Plot of Total Average Cost for Two in Each City')\n",
    "plt.show()\n",
    "for city, orders in zip(city_names, city_orders):\n",
    "    if city == \"Jakarta\":\n",
    "        print(\"Orders for Jakarta:\", orders)"
   ]
  },
  {
   "cell_type": "markdown",
   "id": "714dc8a2-11c8-4e6e-80bc-a82d212430b1",
   "metadata": {},
   "source": [
    "## observation:\n",
    "Delhi has most orders and jakarts has only 16 orders but the Average cost is maximum => Jakarta is a developed city."
   ]
  },
  {
   "cell_type": "code",
   "execution_count": null,
   "id": "ae0c740f-2f62-4af1-83ef-89bd491c4143",
   "metadata": {},
   "outputs": [],
   "source": [
    "## Best selling cuisine all over world\n",
    "cuisine_counts = m['Cuisines'].value_counts()\n",
    "most_bought_cuisine = cuisine_counts.idxmax()\n",
    "print(f\"The most bought cuisine is '{most_bought_cuisine}' with {most_bought_count} orders.\")"
   ]
  },
  {
   "cell_type": "code",
   "execution_count": null,
   "id": "c1f562b9-85f7-40b1-89eb-f8ecbdb1d20e",
   "metadata": {},
   "outputs": [],
   "source": [
    "##Revenue of zomato by online delivery or dining\n",
    "revenue_online = m[m['Has Online delivery'] == 'Yes']['Average Cost for two'].sum()\n",
    "revenue_dining = m[m['Has Table booking'] == 'Yes']['Average Cost for two'].sum()\n",
    "categories = ['Online Delivery', 'Dining']\n",
    "revenues = [revenue_online, revenue_dining]\n",
    "plt.bar(categories, revenues, color=['skyblue', 'pink'])\n",
    "plt.xlabel('Service Type')\n",
    "plt.ylabel('Total Revenue')\n",
    "plt.title('Total Revenue Based on Online Delivery and Dining Availability')\n",
    "plt.show()"
   ]
  },
  {
   "cell_type": "markdown",
   "id": "38d118a4-d85b-454e-a551-071e8ab21a83",
   "metadata": {},
   "source": [
    "## observation:\n",
    "Zomato has More Sales in Restaurants providing both online and dining experience"
   ]
  }
 ],
 "metadata": {
  "kernelspec": {
   "display_name": "Python 3 (ipykernel)",
   "language": "python",
   "name": "python3"
  },
  "language_info": {
   "codemirror_mode": {
    "name": "ipython",
    "version": 3
   },
   "file_extension": ".py",
   "mimetype": "text/x-python",
   "name": "python",
   "nbconvert_exporter": "python",
   "pygments_lexer": "ipython3",
   "version": "3.11.4"
  }
 },
 "nbformat": 4,
 "nbformat_minor": 5
}
